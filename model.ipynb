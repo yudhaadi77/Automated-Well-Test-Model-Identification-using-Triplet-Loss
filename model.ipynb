{
 "cells": [
  {
   "cell_type": "markdown",
   "id": "87bb6362",
   "metadata": {},
   "source": [
    "**MODEL**"
   ]
  },
  {
   "cell_type": "markdown",
   "id": "7d4b44b7",
   "metadata": {},
   "source": [
    "**1.Load Data**"
   ]
  },
  {
   "cell_type": "code",
   "execution_count": 7,
   "id": "edb03bee",
   "metadata": {},
   "outputs": [
    {
     "name": "stdout",
     "output_type": "stream",
     "text": [
      "Semua file berhasil disalin ke folder 'dataset/' sesuai format.\n"
     ]
    }
   ],
   "source": [
    "import os\n",
    "import shutil\n",
    "\n",
    "# Path folder sumber asli\n",
    "source_homogenous = os.path.join(\"RAW_DATA\", \"picture\", \"Homogenous\", \"Homogenous\")\n",
    "source_radial = os.path.join(\"RAW_DATA\", \"picture\", \"Radial Composite\")\n",
    "target_base = \"dataset\"\n",
    "\n",
    "# Hapus folder dataset jika sudah ada\n",
    "if os.path.exists(target_base):\n",
    "    shutil.rmtree(target_base)\n",
    "os.makedirs(target_base, exist_ok=True)\n",
    "\n",
    "# Fungsi salin semua file PNG dari setiap Case\n",
    "def copy_all_plots(source_dir, target_dir_prefix):\n",
    "    os.makedirs(target_dir_prefix, exist_ok=True)\n",
    "    for case in os.listdir(source_dir):\n",
    "        case_path = os.path.join(source_dir, case)\n",
    "        if not os.path.isdir(case_path):\n",
    "            continue\n",
    "\n",
    "        for fname in os.listdir(case_path):\n",
    "            if fname.lower().endswith('.png'):\n",
    "                src_img = os.path.join(case_path, fname)\n",
    "                fname_clean = fname.replace(' ', '_')\n",
    "                case_clean = case.replace('#', '').replace(' ', '')\n",
    "                newname = f\"{os.path.basename(target_dir_prefix)}_{case_clean}_{fname_clean}\"\n",
    "                dst_img = os.path.join(target_dir_prefix, newname)\n",
    "                shutil.copy(src_img, dst_img)\n",
    "\n",
    "# Proses dua kategori\n",
    "copy_all_plots(source_homogenous, os.path.join(target_base, \"Homogenous\"))\n",
    "copy_all_plots(source_radial, os.path.join(target_base, \"Radial_Composite\"))\n",
    "\n",
    "print(\"Semua file berhasil disalin ke folder 'dataset/' sesuai format.\")"
   ]
  },
  {
   "cell_type": "code",
   "execution_count": 8,
   "id": "8d64b54c",
   "metadata": {},
   "outputs": [
    {
     "name": "stdout",
     "output_type": "stream",
     "text": [
      "Total gambar: 150\n",
      "Label map: {'Homogenous': 0, 'Radial_Composite': 1}\n"
     ]
    }
   ],
   "source": [
    "import os\n",
    "from tensorflow.keras.preprocessing.image import load_img, img_to_array\n",
    "\n",
    "DATASET_PATH = \"dataset\"\n",
    "IMG_SIZE = (224, 224)\n",
    "\n",
    "def load_image_paths(dataset_path):\n",
    "    image_paths = []\n",
    "    labels = []\n",
    "    label_names = sorted([\n",
    "        d for d in os.listdir(dataset_path)\n",
    "        if os.path.isdir(os.path.join(dataset_path, d))\n",
    "    ])\n",
    "    label_to_index = {label: idx for idx, label in enumerate(label_names)}\n",
    "\n",
    "    for label in label_names:\n",
    "        folder = os.path.join(dataset_path, label)\n",
    "        for fname in os.listdir(folder):\n",
    "            if fname.lower().endswith(('.png', '.jpg', '.jpeg')):\n",
    "                fpath = os.path.join(folder, fname)\n",
    "                image_paths.append(fpath)\n",
    "                labels.append(label_to_index[label])\n",
    "\n",
    "    return image_paths, labels, label_to_index\n",
    "\n",
    "# Load data dan mapping label\n",
    "image_paths, labels, label_map = load_image_paths(DATASET_PATH)\n",
    "\n",
    "print(f\"Total gambar: {len(image_paths)}\")\n",
    "print(f\"Label map: {label_map}\")"
   ]
  },
  {
   "cell_type": "code",
   "execution_count": 9,
   "id": "9362fb87",
   "metadata": {},
   "outputs": [
    {
     "name": "stdout",
     "output_type": "stream",
     "text": [
      "Total triplets dibuat: 1000\n"
     ]
    }
   ],
   "source": [
    "import random\n",
    "\n",
    "def make_triplets(image_paths, labels, num_triplets=1000):\n",
    "    triplets = []\n",
    "    label_to_paths = {}\n",
    "\n",
    "    # Kelompokkan gambar berdasarkan label\n",
    "    for path, label in zip(image_paths, labels):\n",
    "        label_to_paths.setdefault(label, []).append(path)\n",
    "\n",
    "    for _ in range(num_triplets):\n",
    "        anchor_label = random.choice(list(label_to_paths.keys()))\n",
    "        negative_label = random.choice([l for l in label_to_paths if l != anchor_label])\n",
    "\n",
    "        anchor = random.choice(label_to_paths[anchor_label])\n",
    "        positive = random.choice(label_to_paths[anchor_label])\n",
    "        negative = random.choice(label_to_paths[negative_label])\n",
    "\n",
    "        triplets.append((anchor, positive, negative))\n",
    "\n",
    "    return triplets\n",
    "\n",
    "# Buat triplet\n",
    "triplets = make_triplets(image_paths, labels, num_triplets=1000)\n",
    "print(f\"Total triplets dibuat: {len(triplets)}\")"
   ]
  },
  {
   "cell_type": "code",
   "execution_count": 17,
   "id": "aef81055",
   "metadata": {},
   "outputs": [
    {
     "name": "stdout",
     "output_type": "stream",
     "text": [
      "Triplet model successfully compiled.\n",
      "Model: \"TripletModel\"\n",
      "__________________________________________________________________________________________________\n",
      " Layer (type)                   Output Shape         Param #     Connected to                     \n",
      "==================================================================================================\n",
      " anchor_input (InputLayer)      [(None, 224, 224, 3  0           []                               \n",
      "                                )]                                                                \n",
      "                                                                                                  \n",
      " positive_input (InputLayer)    [(None, 224, 224, 3  0           []                               \n",
      "                                )]                                                                \n",
      "                                                                                                  \n",
      " negative_input (InputLayer)    [(None, 224, 224, 3  0           []                               \n",
      "                                )]                                                                \n",
      "                                                                                                  \n",
      " EmbeddingModel (Functional)    (None, 128)          2421952     ['anchor_input[0][0]',           \n",
      "                                                                  'positive_input[0][0]',         \n",
      "                                                                  'negative_input[0][0]']         \n",
      "                                                                                                  \n",
      " concatenate_1 (Concatenate)    (None, 384)          0           ['EmbeddingModel[3][0]',         \n",
      "                                                                  'EmbeddingModel[4][0]',         \n",
      "                                                                  'EmbeddingModel[5][0]']         \n",
      "                                                                                                  \n",
      "==================================================================================================\n",
      "Total params: 2,421,952\n",
      "Trainable params: 163,968\n",
      "Non-trainable params: 2,257,984\n",
      "__________________________________________________________________________________________________\n"
     ]
    }
   ],
   "source": [
    "import tensorflow as tf\n",
    "from tensorflow.keras import layers, Input, Model\n",
    "\n",
    "# Perbaikan triplet loss: gunakan axis=1 (karena hasil split shape-nya [None, 128])\n",
    "def triplet_loss(margin=1.0):\n",
    "    def loss(y_true, y_pred):\n",
    "        anchor, positive, negative = tf.split(y_pred, num_or_size_splits=3, axis=1)\n",
    "        pos_dist = tf.reduce_sum(tf.square(anchor - positive), axis=1)\n",
    "        neg_dist = tf.reduce_sum(tf.square(anchor - negative), axis=1)\n",
    "        return tf.reduce_mean(tf.maximum(pos_dist - neg_dist + margin, 0.0))\n",
    "    return loss\n",
    "\n",
    "# Gunakan kembali embedding_model dari Step 4 (jika belum, jalankan build_embedding_model)\n",
    "\n",
    "# Input 3 gambar\n",
    "input_anchor = Input(shape=(224, 224, 3), name='anchor_input')\n",
    "input_positive = Input(shape=(224, 224, 3), name='positive_input')\n",
    "input_negative = Input(shape=(224, 224, 3), name='negative_input')\n",
    "\n",
    "# Generate embeddings\n",
    "encoded_anchor = embedding_model(input_anchor)\n",
    "encoded_positive = embedding_model(input_positive)\n",
    "encoded_negative = embedding_model(input_negative)\n",
    "\n",
    "# Concatenate embeddings jadi satu tensor [None, 128*3]\n",
    "merged_output = layers.Concatenate(axis=1)([encoded_anchor, encoded_positive, encoded_negative])\n",
    "\n",
    "# Final Triplet Model\n",
    "triplet_model = Model(\n",
    "    inputs=[input_anchor, input_positive, input_negative],\n",
    "    outputs=merged_output,\n",
    "    name=\"TripletModel\"\n",
    ")\n",
    "\n",
    "# Compile dengan triplet loss yang diperbaiki\n",
    "triplet_model.compile(optimizer='adam', loss=triplet_loss(margin=1.0))\n",
    "\n",
    "print(\"Triplet model successfully compiled.\")\n",
    "triplet_model.summary()\n"
   ]
  },
  {
   "cell_type": "code",
   "execution_count": 18,
   "id": "465a1a7b",
   "metadata": {},
   "outputs": [
    {
     "name": "stdout",
     "output_type": "stream",
     "text": [
      "Epoch 1/10\n",
      "57/57 [==============================] - 70s 1s/step - loss: 2.3098 - val_loss: 0.7019\n",
      "Epoch 2/10\n",
      "57/57 [==============================] - 49s 856ms/step - loss: 0.4332 - val_loss: 0.4337\n",
      "Epoch 3/10\n",
      "57/57 [==============================] - 49s 864ms/step - loss: 0.2482 - val_loss: 0.2702\n",
      "Epoch 4/10\n",
      "57/57 [==============================] - 49s 852ms/step - loss: 0.1986 - val_loss: 0.1935\n",
      "Epoch 5/10\n",
      "57/57 [==============================] - 47s 829ms/step - loss: 0.1470 - val_loss: 0.1368\n",
      "Epoch 6/10\n",
      "57/57 [==============================] - 47s 827ms/step - loss: 0.0914 - val_loss: 0.1253\n",
      "Epoch 7/10\n",
      "57/57 [==============================] - 52s 911ms/step - loss: 0.0831 - val_loss: 0.0876\n",
      "Epoch 8/10\n",
      "57/57 [==============================] - 51s 889ms/step - loss: 0.0662 - val_loss: 0.0856\n",
      "Epoch 9/10\n",
      "57/57 [==============================] - 48s 845ms/step - loss: 0.0473 - val_loss: 0.0807\n",
      "Epoch 10/10\n",
      "57/57 [==============================] - 48s 836ms/step - loss: 0.0415 - val_loss: 0.0808\n"
     ]
    }
   ],
   "source": [
    "# Lakukan training\n",
    "history = triplet_model.fit(\n",
    "    [anchor_imgs, positive_imgs, negative_imgs],\n",
    "    np.zeros(len(anchor_imgs)),  # dummy label\n",
    "    batch_size=16,\n",
    "    epochs=10,\n",
    "    validation_split=0.1\n",
    ")"
   ]
  },
  {
   "cell_type": "code",
   "execution_count": 19,
   "id": "17c0582d",
   "metadata": {},
   "outputs": [
    {
     "data": {
      "image/png": "[encoded data removed]",
      "text/plain": [
       "<Figure size 640x480 with 1 Axes>"
      ]
     },
     "metadata": {},
     "output_type": "display_data"
    }
   ],
   "source": [
    "import matplotlib.pyplot as plt\n",
    "\n",
    "plt.plot(history.history['loss'], label='Training Loss')\n",
    "if 'val_loss' in history.history:\n",
    "    plt.plot(history.history['val_loss'], label='Validation Loss')\n",
    "plt.title(\"Triplet Loss Curve\")\n",
    "plt.xlabel(\"Epoch\")\n",
    "plt.ylabel(\"Loss\")\n",
    "plt.legend()\n",
    "plt.grid(True)\n",
    "plt.show()"
   ]
  },
  {
   "cell_type": "code",
   "execution_count": 20,
   "id": "95fc9654",
   "metadata": {},
   "outputs": [
    {
     "name": "stdout",
     "output_type": "stream",
     "text": [
      "1/1 [==============================] - 1s 1s/step\n",
      "1/1 [==============================] - 0s 88ms/step\n",
      "1/1 [==============================] - 0s 48ms/step\n",
      "1/1 [==============================] - 0s 50ms/step\n",
      "1/1 [==============================] - 0s 55ms/step\n",
      "1/1 [==============================] - 0s 82ms/step\n",
      "1/1 [==============================] - 0s 76ms/step\n",
      "1/1 [==============================] - 0s 64ms/step\n",
      "1/1 [==============================] - 0s 49ms/step\n",
      "1/1 [==============================] - 0s 53ms/step\n",
      "1/1 [==============================] - 0s 50ms/step\n",
      "1/1 [==============================] - 0s 62ms/step\n",
      "1/1 [==============================] - 0s 54ms/step\n",
      "1/1 [==============================] - 0s 52ms/step\n",
      "1/1 [==============================] - 0s 55ms/step\n",
      "1/1 [==============================] - 0s 71ms/step\n",
      "1/1 [==============================] - 0s 58ms/step\n",
      "1/1 [==============================] - 0s 60ms/step\n",
      "1/1 [==============================] - 0s 52ms/step\n",
      "1/1 [==============================] - 0s 75ms/step\n",
      "1/1 [==============================] - 0s 52ms/step\n",
      "1/1 [==============================] - 0s 56ms/step\n",
      "1/1 [==============================] - 0s 58ms/step\n",
      "1/1 [==============================] - 0s 84ms/step\n",
      "1/1 [==============================] - 0s 76ms/step\n",
      "1/1 [==============================] - 0s 49ms/step\n",
      "1/1 [==============================] - 0s 54ms/step\n",
      "1/1 [==============================] - 0s 61ms/step\n",
      "1/1 [==============================] - 0s 53ms/step\n",
      "1/1 [==============================] - 0s 56ms/step\n",
      "1/1 [==============================] - 0s 49ms/step\n",
      "1/1 [==============================] - 0s 53ms/step\n",
      "1/1 [==============================] - 0s 45ms/step\n",
      "1/1 [==============================] - 0s 49ms/step\n",
      "1/1 [==============================] - 0s 54ms/step\n",
      "1/1 [==============================] - 0s 57ms/step\n",
      "1/1 [==============================] - 0s 55ms/step\n",
      "1/1 [==============================] - 0s 48ms/step\n",
      "1/1 [==============================] - 0s 54ms/step\n",
      "1/1 [==============================] - 0s 50ms/step\n",
      "1/1 [==============================] - 0s 51ms/step\n",
      "1/1 [==============================] - 0s 54ms/step\n",
      "1/1 [==============================] - 0s 53ms/step\n",
      "1/1 [==============================] - 0s 49ms/step\n",
      "1/1 [==============================] - 0s 49ms/step\n",
      "1/1 [==============================] - 0s 85ms/step\n",
      "1/1 [==============================] - 0s 127ms/step\n",
      "1/1 [==============================] - 0s 126ms/step\n",
      "1/1 [==============================] - 0s 121ms/step\n",
      "1/1 [==============================] - 0s 119ms/step\n",
      "1/1 [==============================] - 0s 66ms/step\n",
      "1/1 [==============================] - 0s 122ms/step\n",
      "1/1 [==============================] - 0s 115ms/step\n",
      "1/1 [==============================] - 0s 112ms/step\n",
      "1/1 [==============================] - 0s 133ms/step\n",
      "1/1 [==============================] - 0s 128ms/step\n",
      "1/1 [==============================] - 0s 147ms/step\n",
      "1/1 [==============================] - 0s 117ms/step\n",
      "1/1 [==============================] - 0s 115ms/step\n",
      "1/1 [==============================] - 0s 78ms/step\n",
      "1/1 [==============================] - 0s 105ms/step\n",
      "1/1 [==============================] - 0s 115ms/step\n",
      "1/1 [==============================] - 0s 117ms/step\n",
      "1/1 [==============================] - 0s 113ms/step\n",
      "1/1 [==============================] - 0s 108ms/step\n",
      "1/1 [==============================] - 0s 138ms/step\n",
      "1/1 [==============================] - 0s 113ms/step\n",
      "1/1 [==============================] - 0s 92ms/step\n",
      "1/1 [==============================] - 0s 143ms/step\n",
      "1/1 [==============================] - 0s 111ms/step\n",
      "1/1 [==============================] - 0s 110ms/step\n",
      "1/1 [==============================] - 0s 96ms/step\n",
      "1/1 [==============================] - 0s 97ms/step\n",
      "1/1 [==============================] - 0s 106ms/step\n",
      "1/1 [==============================] - 0s 105ms/step\n",
      "1/1 [==============================] - 0s 99ms/step\n",
      "1/1 [==============================] - 0s 92ms/step\n",
      "1/1 [==============================] - 0s 100ms/step\n",
      "1/1 [==============================] - 0s 129ms/step\n",
      "1/1 [==============================] - 0s 94ms/step\n",
      "1/1 [==============================] - 0s 95ms/step\n",
      "1/1 [==============================] - 0s 103ms/step\n",
      "1/1 [==============================] - 0s 79ms/step\n",
      "1/1 [==============================] - 0s 72ms/step\n",
      "1/1 [==============================] - 0s 59ms/step\n",
      "1/1 [==============================] - 0s 57ms/step\n",
      "1/1 [==============================] - 0s 65ms/step\n",
      "1/1 [==============================] - 0s 53ms/step\n",
      "1/1 [==============================] - 0s 53ms/step\n",
      "1/1 [==============================] - 0s 55ms/step\n",
      "1/1 [==============================] - 0s 54ms/step\n",
      "1/1 [==============================] - 0s 68ms/step\n",
      "1/1 [==============================] - 0s 46ms/step\n",
      "1/1 [==============================] - 0s 50ms/step\n",
      "1/1 [==============================] - 0s 46ms/step\n",
      "1/1 [==============================] - 0s 50ms/step\n",
      "1/1 [==============================] - 0s 53ms/step\n",
      "1/1 [==============================] - 0s 55ms/step\n",
      "1/1 [==============================] - 0s 46ms/step\n",
      "1/1 [==============================] - 0s 46ms/step\n",
      "1/1 [==============================] - 0s 54ms/step\n",
      "1/1 [==============================] - 0s 63ms/step\n",
      "1/1 [==============================] - 0s 47ms/step\n",
      "1/1 [==============================] - 0s 61ms/step\n",
      "1/1 [==============================] - 0s 58ms/step\n",
      "1/1 [==============================] - 0s 68ms/step\n",
      "1/1 [==============================] - 0s 69ms/step\n",
      "1/1 [==============================] - 0s 59ms/step\n",
      "1/1 [==============================] - 0s 66ms/step\n",
      "1/1 [==============================] - 0s 72ms/step\n",
      "1/1 [==============================] - 0s 66ms/step\n",
      "1/1 [==============================] - 0s 66ms/step\n",
      "1/1 [==============================] - 0s 71ms/step\n",
      "1/1 [==============================] - 0s 64ms/step\n",
      "1/1 [==============================] - 0s 51ms/step\n",
      "1/1 [==============================] - 0s 68ms/step\n",
      "1/1 [==============================] - 0s 74ms/step\n",
      "1/1 [==============================] - 0s 76ms/step\n",
      "1/1 [==============================] - 0s 73ms/step\n",
      "1/1 [==============================] - 0s 57ms/step\n",
      "1/1 [==============================] - 0s 44ms/step\n",
      "1/1 [==============================] - 0s 48ms/step\n",
      "1/1 [==============================] - 0s 58ms/step\n",
      "1/1 [==============================] - 0s 68ms/step\n",
      "1/1 [==============================] - 0s 61ms/step\n",
      "1/1 [==============================] - 0s 49ms/step\n",
      "1/1 [==============================] - 0s 49ms/step\n",
      "1/1 [==============================] - 0s 50ms/step\n",
      "1/1 [==============================] - 0s 66ms/step\n",
      "1/1 [==============================] - 0s 83ms/step\n",
      "1/1 [==============================] - 0s 88ms/step\n",
      "1/1 [==============================] - 0s 47ms/step\n",
      "1/1 [==============================] - 0s 54ms/step\n",
      "1/1 [==============================] - 0s 45ms/step\n",
      "1/1 [==============================] - 0s 45ms/step\n",
      "1/1 [==============================] - 0s 44ms/step\n",
      "1/1 [==============================] - 0s 46ms/step\n",
      "1/1 [==============================] - 0s 56ms/step\n",
      "1/1 [==============================] - 0s 68ms/step\n",
      "1/1 [==============================] - 0s 53ms/step\n",
      "1/1 [==============================] - 0s 50ms/step\n",
      "1/1 [==============================] - 0s 57ms/step\n",
      "1/1 [==============================] - 0s 75ms/step\n",
      "1/1 [==============================] - 0s 53ms/step\n",
      "1/1 [==============================] - 0s 53ms/step\n",
      "1/1 [==============================] - 0s 52ms/step\n",
      "1/1 [==============================] - 0s 43ms/step\n",
      "1/1 [==============================] - 0s 62ms/step\n",
      "1/1 [==============================] - 0s 49ms/step\n",
      "1/1 [==============================] - 0s 49ms/step\n"
     ]
    }
   ],
   "source": [
    "# Ambil semua embedding dan label dari gambar dataset\n",
    "all_embeddings = []\n",
    "all_labels = []\n",
    "\n",
    "for path, label in zip(image_paths, labels):\n",
    "    img = preprocess_image(path)\n",
    "    embedding = embedding_model.predict(np.expand_dims(img, axis=0))[0]\n",
    "    all_embeddings.append(embedding)\n",
    "    all_labels.append(label)\n",
    "\n",
    "all_embeddings = np.array(all_embeddings)\n",
    "all_labels = np.array(all_labels)"
   ]
  },
  {
   "cell_type": "code",
   "execution_count": 21,
   "id": "8fed1cd3",
   "metadata": {},
   "outputs": [
    {
     "name": "stdout",
     "output_type": "stream",
     "text": [
      "🎯 Top-1 Accuracy: 94.67%\n",
      "🎯 Top-3 Accuracy: 100.00%\n",
      "🎯 Top-5 Accuracy: 100.00%\n"
     ]
    }
   ],
   "source": [
    "from sklearn.metrics import accuracy_score\n",
    "\n",
    "def compute_top_k_accuracy(embeddings, labels, k=3):\n",
    "    correct = 0\n",
    "    total = len(embeddings)\n",
    "\n",
    "    for i in range(total):\n",
    "        query_emb = embeddings[i]\n",
    "        query_label = labels[i]\n",
    "\n",
    "        # Hitung semua jarak ke embedding lain\n",
    "        distances = np.linalg.norm(embeddings - query_emb, axis=1)\n",
    "\n",
    "        # Hindari diri sendiri\n",
    "        distances[i] = np.inf\n",
    "\n",
    "        # Ambil indeks K terdekat\n",
    "        top_k_indices = np.argsort(distances)[:k]\n",
    "        top_k_labels = labels[top_k_indices]\n",
    "\n",
    "        if query_label in top_k_labels:\n",
    "            correct += 1\n",
    "\n",
    "    return correct / total\n",
    "\n",
    "# Hitung Top-1, Top-3, Top-5 accuracy\n",
    "top1 = compute_top_k_accuracy(all_embeddings, all_labels, k=1)\n",
    "top3 = compute_top_k_accuracy(all_embeddings, all_labels, k=3)\n",
    "top5 = compute_top_k_accuracy(all_embeddings, all_labels, k=5)\n",
    "\n",
    "print(f\"🎯 Top-1 Accuracy: {top1:.2%}\")\n",
    "print(f\"🎯 Top-3 Accuracy: {top3:.2%}\")\n",
    "print(f\"🎯 Top-5 Accuracy: {top5:.2%}\")\n"
   ]
  },
  {
   "cell_type": "code",
   "execution_count": 22,
   "id": "4b69e9c3",
   "metadata": {},
   "outputs": [],
   "source": [
    "# (Ulangi jika perlu)\n",
    "from sklearn.preprocessing import LabelEncoder\n",
    "\n",
    "label_encoder = LabelEncoder()\n",
    "label_names = list(label_map.keys())\n",
    "label_indices = label_encoder.fit_transform([label_names[i] for i in all_labels])\n"
   ]
  },
  {
   "cell_type": "code",
   "execution_count": 23,
   "id": "d7fb4a59",
   "metadata": {},
   "outputs": [
    {
     "data": {
      "image/png": "[encoded data removed]",
      "text/plain": [
       "<Figure size 1000x800 with 1 Axes>"
      ]
     },
     "metadata": {},
     "output_type": "display_data"
    }
   ],
   "source": [
    "from sklearn.manifold import TSNE\n",
    "import matplotlib.pyplot as plt\n",
    "\n",
    "# Jalankan t-SNE\n",
    "tsne = TSNE(n_components=2, perplexity=30, random_state=42)\n",
    "embeddings_2d = tsne.fit_transform(all_embeddings)\n",
    "\n",
    "# Plot\n",
    "plt.figure(figsize=(10, 8))\n",
    "for idx, label in enumerate(np.unique(label_indices)):\n",
    "    indices = np.where(label_indices == label)\n",
    "    plt.scatter(embeddings_2d[indices, 0], embeddings_2d[indices, 1], label=label_names[label])\n",
    "\n",
    "plt.title(\"t-SNE Projection of Embeddings\")\n",
    "plt.legend()\n",
    "plt.grid(True)\n",
    "plt.show()"
   ]
  },
  {
   "cell_type": "code",
   "execution_count": 24,
   "id": "677c6dd9",
   "metadata": {},
   "outputs": [
    {
     "name": "stdout",
     "output_type": "stream",
     "text": [
      "WARNING:tensorflow:Compiled the loaded model, but the compiled metrics have yet to be built. `model.compile_metrics` will be empty until you train or evaluate the model.\n",
      "Model berhasil disimpan sebagai 'embedding_model.h5' dan 'triplet_model.h5'\n"
     ]
    }
   ],
   "source": [
    "# Simpan embedding model\n",
    "embedding_model.save(\"embedding_model.h5\")\n",
    "\n",
    "# Simpan triplet model (jika perlu)\n",
    "triplet_model.save(\"triplet_model.h5\")\n",
    "\n",
    "print(\"Model berhasil disimpan sebagai 'embedding_model.h5' dan 'triplet_model.h5'\")\n"
   ]
  },
  {
   "cell_type": "code",
   "execution_count": 1,
   "id": "5f703155",
   "metadata": {},
   "outputs": [
    {
     "ename": "NameError",
     "evalue": "name 'query_path' is not defined",
     "output_type": "error",
     "traceback": [
      "\u001b[1;31m---------------------------------------------------------------------------\u001b[0m",
      "\u001b[1;31mNameError\u001b[0m                                 Traceback (most recent call last)",
      "Cell \u001b[1;32mIn[1], line 25\u001b[0m\n\u001b[0;32m     22\u001b[0m     plt\u001b[38;5;241m.\u001b[39mshow()\n\u001b[0;32m     24\u001b[0m \u001b[38;5;66;03m# Panggil visualisasi\u001b[39;00m\n\u001b[1;32m---> 25\u001b[0m show_top_k_images(\u001b[43mquery_path\u001b[49m, top_paths)\n",
      "\u001b[1;31mNameError\u001b[0m: name 'query_path' is not defined"
     ]
    }
   ],
   "source": [
    "import matplotlib.pyplot as plt\n",
    "from tensorflow.keras.preprocessing.image import load_img\n",
    "\n",
    "def show_top_k_images(query_path, top_paths):\n",
    "    k = len(top_paths)\n",
    "    plt.figure(figsize=(2*(k+1), 4))\n",
    "\n",
    "    # Tampilkan query\n",
    "    plt.subplot(1, k+1, 1)\n",
    "    plt.imshow(load_img(query_path, target_size=(224, 224)))\n",
    "    plt.title(\"Query\")\n",
    "    plt.axis('off')\n",
    "\n",
    "    # Tampilkan hasil Top-K\n",
    "    for i, path in enumerate(top_paths):\n",
    "        plt.subplot(1, k+1, i+2)\n",
    "        plt.imshow(load_img(path, target_size=(224, 224)))\n",
    "        plt.title(f\"Top-{i+1}\")\n",
    "        plt.axis('off')\n",
    "\n",
    "    plt.tight_layout()\n",
    "    plt.show()\n",
    "\n",
    "# Panggil visualisasi\n",
    "show_top_k_images(query_path, top_paths)\n"
   ]
  }
 ],
 "metadata": {
  "kernelspec": {
   "display_name": "base",
   "language": "python",
   "name": "python3"
  },
  "language_info": {
   "codemirror_mode": {
    "name": "ipython",
    "version": 3
   },
   "file_extension": ".py",
   "mimetype": "text/x-python",
   "name": "python",
   "nbconvert_exporter": "python",
   "pygments_lexer": "ipython3",
   "version": "3.10.9"
  }
 },
 "nbformat": 4,
 "nbformat_minor": 5
}
